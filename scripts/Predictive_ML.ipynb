{
 "cells": [
  {
   "cell_type": "code",
   "execution_count": 1,
   "metadata": {},
   "outputs": [],
   "source": [
    "#repeat of model training using the substrate descriptors without coa part\n",
    "import h5py\n",
    "import numpy\n",
    "from rdkit import Chem\n",
    "from rdkit.Chem import AllChem\n",
    "from rdkit import DataStructs\n",
    "from rdkit.Chem import MACCSkeys\n",
    "from pandas import read_csv\n",
    "import pandas as pd\n",
    "from matplotlib.pyplot import subplots, axes, scatter, xticks\n",
    "from sklearn.ensemble import RandomForestClassifier\n",
    "from sklearn.tree import DecisionTreeClassifier\n",
    "from sklearn.neural_network import MLPClassifier\n",
    "from sklearn.model_selection import StratifiedShuffleSplit\n",
    "from sklearn.metrics import roc_auc_score, precision_score, recall_score, f1_score\n",
    "from numpy import mean, array\n",
    "import time"
   ]
  },
  {
   "cell_type": "code",
   "execution_count": 77,
   "metadata": {},
   "outputs": [],
   "source": [
    "#functions\n",
    "#making embbeding df\n",
    "def T5_match(reduced_embedding, long_df):\n",
    "    start_time = time.perf_counter()\n",
    "    reduced_file = h5py.File(reduced_embedding, \"r\")\n",
    "    seq_embeddings = numpy.empty(1024)\n",
    "    for item in long_df[\"Gene\"]:\n",
    "        #res = [key for key, val in indexes.items() if item  in val]\n",
    "        array = numpy.asarray(reduced_file[item])\n",
    "        #removinf nans\n",
    "        array = numpy.nan_to_num(array, nan=0.0)\n",
    "        seq_embeddings = numpy.vstack((seq_embeddings,array))\n",
    "    seq_embeddings = seq_embeddings[1:]\n",
    "    end_time = time.perf_counter()\n",
    "    elapsed_time = end_time - start_time\n",
    "    print(\"Elapsed time: \", elapsed_time)\n",
    "    return seq_embeddings    \n",
    "#matching embedding with Gene name in pooled embeddings\n",
    "def substrate_match(long_df, descriptors, smiles):\n",
    "    subs_descpitors = numpy.empty(descriptors.shape[1])\n",
    "    for item in long_df['Substrate']:\n",
    "        #print(item)\n",
    "        index = smiles.index[smiles[\"Substrate\"]==item][0]\n",
    "        subs_descpitors = numpy.vstack((subs_descpitors, descriptors[index]))\n",
    "    subs_descpitors = subs_descpitors[1:]\n",
    "    return subs_descpitors\n",
    "#function for substrate embedding generation\n",
    "def substrate_descriptor(smiles, dimension):\n",
    "    substrate_desc = {}\n",
    "    for item in dimension:\n",
    "        substrate_desc[item] = numpy.empty(dimension[item])\n",
    "    for item in smiles['SMILES']:\n",
    "        #print(item.index())\n",
    "        mol = Chem.MolFromSmiles(item)\n",
    "        models = {'Morgan': AllChem.GetMorganFingerprintAsBitVect(mol,2, 2048),\n",
    "         'RDKit': AllChem.GetRDKitFPGenerator().GetFingerprint(mol),\n",
    "         'MACCS': Chem.MACCSkeys.GenMACCSKeys(mol)}\n",
    "        for model in models:\n",
    "            fp = models[model]\n",
    "            array = numpy.zeros((0, ), dtype=numpy.int8)\n",
    "            DataStructs.ConvertToNumpyArray(fp, array)\n",
    "            substrate_desc[model] = numpy.vstack((substrate_desc[model], array))\n",
    "    for item in substrate_desc:\n",
    "        substrate_desc[item]= substrate_desc[item][1:]\n",
    "    return substrate_desc\n",
    "#calculate scores for plotting\n",
    "def model_score(score):\n",
    "    mean_scores = dict()\n",
    "    for item in score:\n",
    "        print(item)\n",
    "        metr = list()\n",
    "        sd = list()\n",
    "        for value in score[item]:\n",
    "            metr.append(mean(value, axis =0 ))\n",
    "            sd.append(numpy.std(value, axis = 0))\n",
    "        mean_scores[item] = [metr, sd]\n",
    "    return mean_scores\n",
    "\n",
    "#make ML df for training\n",
    "def makeMLset(input_df, fingerprints, adress):\n",
    "    embeddings = dict()\n",
    "    embeddings[\"ProtTrans\"] = T5_match(adress, input_df)\n",
    "\n",
    "    substrate_fp = dict()\n",
    "    for key in fingerprints:\n",
    "        substrate_fp[key] = substrate_match(input_df, fingerprints[key], smiles)\n",
    "    X = dict()\n",
    "    for item in substrate_fp:\n",
    "        for item2 in embeddings:\n",
    "            name = str(item) + '/' + str(item2)\n",
    "            X[name] = numpy.hstack((embeddings[item2],  substrate_fp[item]))\n",
    "    return(X)\n",
    "\n",
    "#function for the model training \n",
    "def model_test(train_X, y_train, test_X, test_y):\n",
    "    import random\n",
    "    pred_score_all, pred_value_all = dict(), dict()\n",
    "    for item in test_X:\n",
    "        X_train = train_X[item]\n",
    "        pred_score, pred_roc_auc, pred_precision, pred_recall, pred_f1 = list(), list(),list(),list(), list()\n",
    "        pred_value = list()\n",
    "        for i in range(0,100):\n",
    "            RANDOM_STATE = random.randint(0, 10000000)\n",
    "            classifiers = {\n",
    "            'Random Forest': RandomForestClassifier(random_state=RANDOM_STATE),\n",
    "            'Decision Tree': DecisionTreeClassifier(random_state=RANDOM_STATE),\n",
    "            'Multi-layer Perceptron': MLPClassifier(max_iter=50000, random_state=RANDOM_STATE)}\n",
    "            pred_score_clf, pred_roc_auc_clf, pred_precision_clf, pred_recall_clf, pred_f1_clf = list(),list(), list(),list(),list()\n",
    "            pred_clf = list()\n",
    "            for name, clf in classifiers.items():\n",
    "                clf.fit(X_train, y_train)\n",
    "                y_pred_prob = clf.predict_proba(test_X[item])[:, 1]\n",
    "                y_pred = clf.predict(test_X[item])\n",
    "                pred_score_clf.append(clf.score(test_X[item], test_y))\n",
    "                pred_roc_auc_clf.append(roc_auc_score(test_y, y_pred_prob))\n",
    "                pred_precision_clf.append(precision_score(test_y, y_pred))\n",
    "                pred_recall_clf.append(recall_score(test_y, y_pred))\n",
    "                pred_f1_clf.append(f1_score(test_y, y_pred))\n",
    "                pred_clf.append(y_pred)\n",
    "            pred_score.append(pred_score_clf), \n",
    "            pred_roc_auc.append(pred_roc_auc_clf)\n",
    "            pred_recall.append(pred_recall_clf)\n",
    "            pred_precision.append(pred_precision_clf)\n",
    "            pred_f1.append(pred_f1_clf)\n",
    "            pred_value.append(pred_clf)\n",
    "        pred_score_all[item] = (pred_score,pred_roc_auc, pred_precision, pred_recall, pred_f1) \n",
    "        pred_value_all[item] = pred_value\n",
    "    results = (pred_score_all,pred_value_all )\n",
    "    return results    \n",
    "\n",
    "#function to plot all 5 metrics from model_score function\n",
    "def plot_model_score(classifiers, score_model):\n",
    "    metrics_list = [\"Accuracy\", \"ROC AUC\", \"Precision\", \"Recall\", \"F1\"]\n",
    "    labels = classifiers.keys()\n",
    "    x = numpy.arange(len(labels))  # the label locations\n",
    "    width = 0.2  # the width of the bars\n",
    "\n",
    "    fig, ax = subplots(ncols = len(metrics_list), figsize = (20,8))\n",
    "    for i in range(0,len(metrics_list)):\n",
    "        multiplier = 0\n",
    "        for attribute, measurement in score_model.items():\n",
    "            offset = width * multiplier\n",
    "            rects = ax[i].bar(x + offset, measurement[0][i], width, yerr = measurement[1][i], label = attribute)\n",
    "            multiplier += 1\n",
    "        ax[i].set_ylabel(metrics_list[i])\n",
    "        ax[i].set_xticks(x + width)\n",
    "        ax[i].set_xticklabels(labels, rotation=-90)\n",
    "        if i == len(metrics_list)-1:        \n",
    "            ax[i].legend()\n",
    "        ax[i].set_ylim(0.5, 1)\n",
    "\n",
    "#function to export all 5 metrics for each model and run\n",
    "def score_all_points(score_all):\n",
    "    metrics_list = [\"Accuracy\", \"ROC AUC\", \"Precision\", \"Recall\", \"F1\"]\n",
    "    embed, model, metrics, value = list(), list(),list(),list()\n",
    "    for item in score_all:\n",
    "        for metric in score_all[item]:\n",
    "            for run in metric:\n",
    "                for i in range(0,3):\n",
    "                    embed.append(item)\n",
    "                    metrics.append(metrics_list[score_all[item].index(metric)])\n",
    "                    model.append(list(classifiers.keys())[i])\n",
    "                    value.append(run[i])\n",
    "\n",
    "\n",
    "    score_df = pd.DataFrame({\"Embedding\" : embed,\n",
    "                           \"Model\": model,\n",
    "                           \"Metric\": metrics,\n",
    "                           \"value\":value})  \n",
    "    return score_df\n",
    "\n",
    "#function to average prediction for each model. The structure [embedding]-[run]-[model]-[prediction]\n",
    "def average_prediction(score_all, classifiers, input_df, outfile):\n",
    "    prediction = dict()\n",
    "    for item in score_all:\n",
    "        averaged = mean(score_all[item], axis = 0)\n",
    "        for i in range(0,3):\n",
    "            name = item + \"_\" + list(classifiers.keys())[i]\n",
    "            prediction[name] = averaged[i]\n",
    "\n",
    "\n",
    "    average_df = pd.DataFrame(prediction)\n",
    "    temp_df = pd.concat([input_df, average_df], axis = 1)\n",
    "    temp_df.to_csv(outfile, sep=\";\")\n",
    "    return temp_df\n",
    "\n",
    "#training model for prediction export using MACCS/Prottrans and MLP \n",
    "def make_prediction(input_X, train_x, train_y, input_df, outfile):\n",
    "    import random\n",
    "    score = list()\n",
    "    y_pred = list()\n",
    "    for i in range(0,100):\n",
    "        score_clf = list()\n",
    "        RANDOM_STATE = random.randint(0, 10000000)\n",
    "        clf = MLPClassifier(max_iter=50000, random_state=RANDOM_STATE)\n",
    "        clf.fit(train_x, train_y)\n",
    "        y_pred.append(clf.predict(input_X))\n",
    "    temp_df = input_df[[\"Gene\", \"Substrate\"]] \n",
    "    temp_df[\"pred\"] = list(mean(y_pred, axis = 0))\n",
    "    temp_df.to_csv(outfile, sep=\";\")"
   ]
  },
  {
   "cell_type": "code",
   "execution_count": 3,
   "metadata": {},
   "outputs": [],
   "source": [
    "#reading smiles and making ecpf\n",
    "dimension = {'Morgan': 2048,\n",
    "         'RDKit': 2048,\n",
    "         'MACCS': 167}\n",
    "smiles = read_csv(\"../input_data/smiles_combined.csv\")\n",
    "fingerprints = substrate_descriptor(smiles,  dimension)\n"
   ]
  },
  {
   "cell_type": "code",
   "execution_count": 4,
   "metadata": {},
   "outputs": [
    {
     "name": "stdout",
     "output_type": "stream",
     "text": [
      "Elapsed time:  0.09501549999998815\n"
     ]
    }
   ],
   "source": [
    "#reading training df and making input\n",
    "long_df = read_csv(\"../input_data/T3PKS_cellfree_df.csv\")\n",
    "X_cellfree = makeMLset(long_df, fingerprints, '../input_data/T3PKS_embeddings.h5')"
   ]
  },
  {
   "cell_type": "code",
   "execution_count": 85,
   "metadata": {},
   "outputs": [
    {
     "name": "stdout",
     "output_type": "stream",
     "text": [
      "Morgan/ProtTrans\n",
      "RDKit/ProtTrans\n",
      "MACCS/ProtTrans\n"
     ]
    }
   ],
   "source": [
    "y_train = long_df['value']\n",
    "\n",
    "score_all = dict()\n",
    "for item in X_cellfree:\n",
    "    sss = StratifiedShuffleSplit(random_state=12345, n_splits=100, test_size=0.3)\n",
    "    score, roc_auc, precision, recall, f1 = list(), list(),list(),list(), list()\n",
    "    \n",
    "    for train_index, test_index in sss.split(X_cellfree[item], y_train):\n",
    "        X_s, y_s = X_cellfree[item][train_index, :], y_train[train_index]\n",
    "        new_obs_s, y_test_s = X_cellfree[item][test_index, :], y_train[test_index]\n",
    "        score_clf, roc_auc_clf, precision_clf, recall_clf, f1_clf = list(), list(),list(),list(), list()\n",
    "        RANDOM_STATE = random.randint(0, 10000000)\n",
    "        classifiers = {'Random Forest': RandomForestClassifier(random_state=RANDOM_STATE),\n",
    "                       'Decision Tree': DecisionTreeClassifier(random_state=RANDOM_STATE),\n",
    "                       'Multi-layer Perceptron': MLPClassifier(max_iter=50000, random_state=RANDOM_STATE)}\n",
    "        for name, clf in classifiers.items():\n",
    "            clf.fit(X_s, y_s)\n",
    "            y_pred_prob = clf.predict_proba(new_obs_s)[:, 1]\n",
    "            y_pred = clf.predict(new_obs_s)\n",
    "            score_clf.append(clf.score(new_obs_s, y_test_s))\n",
    "            roc_auc_clf.append(roc_auc_score(y_test_s, y_pred_prob))\n",
    "            precision_clf.append(precision_score(y_test_s, y_pred))\n",
    "            recall_clf.append(recall_score(y_test_s, y_pred))\n",
    "            f1_clf.append(f1_score(y_test_s, y_pred))\n",
    "        score.append(score_clf), \n",
    "        roc_auc.append(roc_auc_clf)\n",
    "        recall.append(recall_clf)\n",
    "        precision.append(precision_clf)\n",
    "        f1.append(f1_clf)\n",
    "    score_all[item] = (score,roc_auc, precision, recall, f1)\n"
   ]
  },
  {
   "cell_type": "code",
   "execution_count": 86,
   "metadata": {},
   "outputs": [
    {
     "data": {
      "image/png": "[encoded data removed]",
      "text/plain": [
       "<Figure size 1440x576 with 5 Axes>"
      ]
     },
     "metadata": {
      "needs_background": "light"
     },
     "output_type": "display_data"
    }
   ],
   "source": [
    "#plot results\n",
    "mean_model_scores = model_score(score_all)\n",
    "plot_model_score(classifiers, mean_model_scores)\n",
    "#exporting results\n",
    "training_all_score = score_all_points(score_all[0])\n",
    "training_all_score.to_csv(\"../output_data/model_scores_training.csv\")"
   ]
  },
  {
   "cell_type": "code",
   "execution_count": 79,
   "metadata": {},
   "outputs": [
    {
     "name": "stdout",
     "output_type": "stream",
     "text": [
      "Elapsed time:  0.12944666699695517\n"
     ]
    }
   ],
   "source": [
    "#making prediction for all substrates\n",
    "substrate_df = read_csv(\"../input_data/substrate_prediction_df.csv\")\n",
    "X_substrates_prediction = makeMLset(substrate_df, fingerprints, '../input_data/T3PKS_embeddings.h5')\n",
    "make_prediction(X_substrates_prediction[\"MACCS/ProtTrans\"], X_cellfree[\"MACCS/ProtTrans\"], \n",
    "                long_df[\"value\"], substrate_df, \"../output_data/all_substrate_prediction.csv\")"
   ]
  },
  {
   "cell_type": "code",
   "execution_count": 7,
   "metadata": {},
   "outputs": [
    {
     "name": "stdout",
     "output_type": "stream",
     "text": [
      "Elapsed time:  0.04169483299997978\n"
     ]
    }
   ],
   "source": [
    "#making datasets for xtra substrates\n",
    "xtra_df = read_csv(\"../input_data/xtra_substrates.csv\")\n",
    "X_substrates = makeMLset(xtra_df, fingerprints, '../input_data/T3PKS_embeddings.h5')\n",
    "#test on xtrasubstrates\n",
    "extra_score = model_test(X_cellfree, long_df['value'], X_substrates, xtra_df['value'])\n",
    "extra_score_model = model_score(extra_score[0])\n",
    "classifiers = {'Random Forest': RandomForestClassifier(),'Decision Tree': DecisionTreeClassifier(),'Multi-layer Perceptron': MLPClassifier(max_iter=50000)}\n",
    "plot_model_score(classifiers, extra_score_model)\n",
    "#export results\n",
    "extra_substrate_all_score = score_all_points(extra_score[0])\n",
    "extra_substrate_all_score.to_csv(\"../output_data/extra_substrates_scores.csv\")\n",
    "extra_substrate_prediction = average_prediction(extra_score[1], classifiers, xtra_df, \"../output_data/extra_substrates_prediction.csv\")"
   ]
  },
  {
   "cell_type": "code",
   "execution_count": 73,
   "metadata": {},
   "outputs": [
    {
     "name": "stdout",
     "output_type": "stream",
     "text": [
      "Elapsed time:  0.055202416000611265\n"
     ]
    }
   ],
   "source": [
    "#making datasets for published enzymes\n",
    "published_df = read_csv(\"../input_data/published.csv\")\n",
    "published_df = published_df.loc[published_df[\"Organism\"] == \"Fungi\"]\n",
    "published_df = published_df.reset_index()\n",
    "X_published = makeMLset(published_df, fingerprints, '../input_data/T3PKS_embeddings.h5')\n",
    "published_score = model_test(X_cellfree, long_df['value'], X_published, published_df['value'])\n",
    "#plot results \n",
    "published_model = model_score(published_score[0])\n",
    "plot_model_score(classifiers, published_model)\n",
    "#export results\n",
    "published_all_score = score_all_points(published_score[0])\n",
    "published_all_score.to_csv(\"../output_data/published_scores.csv\")\n",
    "published_prediction = average_prediction(published_score[1], classifiers, published_df, \"../output_data/published_prediction.csv\")"
   ]
  },
  {
   "cell_type": "code",
   "execution_count": 75,
   "metadata": {},
   "outputs": [
    {
     "name": "stdout",
     "output_type": "stream",
     "text": [
      "Elapsed time:  0.03688120799961325\n"
     ]
    }
   ],
   "source": [
    "#additional set for bacterial and plant T3PKS\n",
    "plant_bacterial = read_csv(\"../input_data/published.csv\")\n",
    "plant_bacterial = plant_bacterial.loc[plant_bacterial[\"Organism\"] != \"Fungi\"]\n",
    "plant_bacterial = plant_bacterial.reset_index()\n",
    "#predction\n",
    "X_plant = makeMLset(plant_bacterial, fingerprints, '../input_data/T3PKS_embeddings.h5')\n",
    "plant_score = model_test(X_cellfree, long_df['value'], X_plant, plant_bacterial['value'])\n",
    "#plot results\n",
    "plant_model = model_score(plant_score[0])\n",
    "plot_model_score(classifiers, plant_model)\n",
    "#export results \n",
    "plant_all_score = score_all_points(plant_score[0])\n",
    "plant_all_score.to_csv(\"../output_data/published_plant_scores.csv\")\n",
    "plant_prediction = average_prediction(plant_score[1], classifiers, plant_bacterial, \"../output_data/published_plant_prediction.csv\")"
   ]
  }
 ],
 "metadata": {
  "kernelspec": {
   "display_name": "Python 3",
   "language": "python",
   "name": "python3"
  },
  "language_info": {
   "codemirror_mode": {
    "name": "ipython",
    "version": 3
   },
   "file_extension": ".py",
   "mimetype": "text/x-python",
   "name": "python",
   "nbconvert_exporter": "python",
   "pygments_lexer": "ipython3",
   "version": "3.8.8"
  }
 },
 "nbformat": 4,
 "nbformat_minor": 2
}
