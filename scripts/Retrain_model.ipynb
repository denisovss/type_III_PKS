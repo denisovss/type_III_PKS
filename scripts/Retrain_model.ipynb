{
 "cells": [
  {
   "cell_type": "code",
   "execution_count": 8,
   "metadata": {},
   "outputs": [],
   "source": [
    "import h5py\n",
    "import numpy\n",
    "from rdkit import Chem\n",
    "from rdkit.Chem import AllChem\n",
    "from rdkit import DataStructs\n",
    "from rdkit.Chem import MACCSkeys\n",
    "from pandas import read_csv\n",
    "import pandas as pd\n",
    "from matplotlib.pyplot import subplots, axes, scatter, xticks\n",
    "from sklearn.ensemble import RandomForestClassifier\n",
    "from sklearn.tree import DecisionTreeClassifier\n",
    "from sklearn.neural_network import MLPClassifier\n",
    "from sklearn.model_selection import StratifiedShuffleSplit\n",
    "from sklearn.metrics import roc_auc_score, precision_score, recall_score, f1_score\n",
    "from numpy import mean, array\n",
    "import time\n",
    "import random\n",
    "import os\n",
    "import pickle"
   ]
  },
  {
   "cell_type": "code",
   "execution_count": 6,
   "metadata": {},
   "outputs": [],
   "source": [
    "#functions\n",
    "#making embbeding df\n",
    "#making embbeding df\n",
    "def T5_match(reduced_embedding, long_df):\n",
    "    reduced_file = h5py.File(reduced_embedding, \"r\")\n",
    "    seq_embeddings = numpy.empty(1024)\n",
    "    for item in long_df[\"Gene\"]:\n",
    "        #res = [key for key, val in indexes.items() if item  in val]\n",
    "        array = numpy.asarray(reduced_file[item])\n",
    "        #removinf nans\n",
    "        array = numpy.nan_to_num(array, nan=0.0)\n",
    "        seq_embeddings = numpy.vstack((seq_embeddings,array))\n",
    "    seq_embeddings = seq_embeddings[1:]\n",
    "    end_time = time.perf_counter()\n",
    "    return seq_embeddings    \n",
    "#matching embedding with Gene name in pooled embeddings\n",
    "\n",
    "\n",
    "def substrate_match(long_df, descriptors, smiles):\n",
    "    subs_descriptors = numpy.empty(167)\n",
    "    for item in long_df['Substrate']:\n",
    "        #print(item)\n",
    "        index = smiles.index[smiles[\"Substrate\"]==item][0]\n",
    "        subs_descriptors = numpy.vstack((subs_descriptors, descriptors[index]))\n",
    "    subs_descriptors = subs_descriptors[1:]\n",
    "    return subs_descriptors\n",
    "#function for substrate embedding generation\n",
    "def substrate_descriptor(smiles):\n",
    "    substrate_desc = numpy.empty(167)\n",
    "    for item in smiles['SMILES']:\n",
    "        #print(item.index())\n",
    "        mol = Chem.MolFromSmiles(item)\n",
    "        fp =  Chem.MACCSkeys.GenMACCSKeys(mol)\n",
    "        array = numpy.zeros((0, ), dtype=numpy.int8)\n",
    "        DataStructs.ConvertToNumpyArray(fp, array)\n",
    "        substrate_desc = numpy.vstack((substrate_desc, array))\n",
    "\n",
    "    substrate_desc = substrate_desc[1:]\n",
    "    return substrate_desc\n",
    "\n",
    "#make ML df for training\n",
    "def makeMLset(input_df, fingerprints, adress):\n",
    "    embeddings = dict()\n",
    "    embeddings[\"ProtTrans\"] = T5_match(adress, input_df)\n",
    "\n",
    "    substrate_fp = dict()\n",
    "    for key in fingerprints:\n",
    "        substrate_fp[key] = substrate_match(input_df, fingerprints[key], smiles)\n",
    "    X = dict()\n",
    "    for item in substrate_fp:\n",
    "        for item2 in embeddings:\n",
    "            name = str(item) + '/' + str(item2)\n",
    "            X[name] = numpy.hstack((embeddings[item2],  substrate_fp[item]))\n",
    "    return(X)\n",
    "\n",
    "\n",
    "#function to plot all 5 metrics from model_score function\n",
    "def plot_model_score(score_model):\n",
    "    metrics_list = [\"Accuracy\", \"ROC AUC\", \"Precision\", \"Recall\", \"F1\"]\n",
    "    x = list(numpy.arange(len(metrics_list)))\n",
    "    y = numpy.mean( score_model, axis = 1).flatten()\n",
    "    err = numpy.std(score_model, axis = 1).flatten()\n",
    "    fig, ax = subplots(figsize = (5,8))\n",
    "    ax.bar(x, y, yerr = err)\n",
    "    ax.set_xticks(x)\n",
    "    ax.set_xticklabels(metrics_list, rotation=-90)\n",
    "    fig.show()\n",
    "    \n",
    "#make ML df for training\n",
    "def readExcel(input_set):\n",
    "    training_dataset = pd.read_excel(input_set)\n",
    "    training_dataset = pd.melt(training_dataset, id_vars = [\"Gene\"], var_name = \"Substrate\")\n",
    "    training_dataset = training_dataset.dropna()\n",
    "    return training_dataset\n",
    "\n",
    "def makeTrainSet(adress, smiles, training_dataset):\n",
    "    smiles = pd.read_csv(smiles, sep = \",\")\n",
    "    fingerprints = substrate_descriptor(smiles)\n",
    "    embeddings = T5_match(adress, training_dataset)    \n",
    "    substrate_fp = substrate_match(training_dataset, fingerprints, smiles)\n",
    "    X = numpy.hstack((embeddings,  substrate_fp))\n",
    "    return X\n",
    "\n",
    "def testModel(input_excel, embedding, smiles):\n",
    "    training_set = readExcel(input_excel)\n",
    "    train_X = makeTrainSet(embedding,smiles, training_set)\n",
    "    train_y = array(training_set[\"value\"])\n",
    "    sss = StratifiedShuffleSplit(random_state=12345, n_splits=100, test_size=0.3)\n",
    "    score, roc_auc, precision, recall, f1 = list(), list(),list(),list(), list()\n",
    "    \n",
    "    for train_index, test_index in sss.split(train_X, train_y):\n",
    "        X_s, y_s = train_X[train_index, :], train_y[train_index]\n",
    "        new_obs_s, y_test_s = train_X[test_index, :], train_y[test_index]\n",
    "        score_clf, roc_auc_clf, precision_clf, recall_clf, f1_clf = list(), list(),list(),list(), list()\n",
    "        RANDOM_STATE = random.randint(0, 10000000)\n",
    "        clf = MLPClassifier(max_iter=50000, random_state=RANDOM_STATE)\n",
    "        clf.fit(X_s, y_s)\n",
    "        y_pred_prob = clf.predict_proba(new_obs_s)[:, 1]\n",
    "        y_pred = clf.predict(new_obs_s)\n",
    "        score_clf.append(clf.score(new_obs_s, y_test_s))\n",
    "        roc_auc_clf.append(roc_auc_score(y_test_s, y_pred_prob))\n",
    "        precision_clf.append(precision_score(y_test_s, y_pred))\n",
    "        recall_clf.append(recall_score(y_test_s, y_pred))\n",
    "        f1_clf.append(f1_score(y_test_s, y_pred))\n",
    "        score.append(score_clf), \n",
    "        roc_auc.append(roc_auc_clf)\n",
    "        recall.append(recall_clf)\n",
    "        precision.append(precision_clf)\n",
    "        f1.append(f1_clf)\n",
    "    score_all = (score,roc_auc, precision, recall, f1)\n",
    "    plot_model_score(score_all)\n",
    "    \n",
    "#training and saving model\n",
    "def trainModel(input_excel, embedding, smiles, model_name):\n",
    "    training_set = readExcel(input_excel)\n",
    "    train_X = makeTrainSet(embedding,smiles, training_set)\n",
    "    train_y = array(training_set[\"value\"])\n",
    "    models = list()\n",
    "    for x in os.listdir(\"../models/\" + model_name):\n",
    "        if x.endswith(\".sav\"):\n",
    "            models.append(x)\n",
    "    if len(models) != 0:\n",
    "        print(\"Models are already trained\")\n",
    "    else:\n",
    "        for i in range(0,10):\n",
    "            import random\n",
    "            out_name = \"../models/\" + model_name + \"/model\" + str(i) + \".sav\"\n",
    "            RANDOM_STATE = random.randint(0, 10000)\n",
    "            clf = MLPClassifier(max_iter=50000, random_state=RANDOM_STATE)\n",
    "            clf.fit(train_X, train_y)\n",
    "            pickle.dump(clf, open(out_name, 'wb'))"
   ]
  },
  {
   "cell_type": "code",
   "execution_count": 4,
   "metadata": {},
   "outputs": [
    {
     "name": "stderr",
     "output_type": "stream",
     "text": [
      "<ipython-input-3-7e171fbd7573>:103: UserWarning: Matplotlib is currently using module://ipykernel.pylab.backend_inline, which is a non-GUI backend, so cannot show the figure.\n",
      "  fig.show()\n"
     ]
    },
    {
     "data": {
      "image/png": "[encoded data removed]",
      "text/plain": [
       "<Figure size 720x576 with 1 Axes>"
      ]
     },
     "metadata": {
      "needs_background": "light"
     },
     "output_type": "display_data"
    }
   ],
   "source": [
    "testModel(\"../input_data/T3PKS_expanded_set.xlsx\",'../input_data/T3PKS_embeddings.h5', \"../input_data/smiles_combined.csv\")\n",
    "\n",
    "#training_data = readExcel(\"../input_data/T3PKS_expanded_set.xlsx\")\n",
    "#X_training = makeTrainSet('../input_data/T3PKS_embeddings.h5', \"../input_data/smiles_combined.csv\", training_data)"
   ]
  },
  {
   "cell_type": "code",
   "execution_count": 10,
   "metadata": {},
   "outputs": [
    {
     "name": "stdout",
     "output_type": "stream",
     "text": [
      "Models are already trained\n"
     ]
    }
   ],
   "source": [
    "#training train and save new \"expanded\" model\n",
    "trainModel(\"../input_data/T3PKS_expanded_set.xlsx\",'../input_data/T3PKS_embeddings.h5',\n",
    "           \"../input_data/smiles_combined.csv\", \"expanded\")"
   ]
  },
  {
   "cell_type": "code",
   "execution_count": null,
   "metadata": {},
   "outputs": [],
   "source": []
  }
 ],
 "metadata": {
  "kernelspec": {
   "display_name": "Python 3",
   "language": "python",
   "name": "python3"
  },
  "language_info": {
   "codemirror_mode": {
    "name": "ipython",
    "version": 3
   },
   "file_extension": ".py",
   "mimetype": "text/x-python",
   "name": "python",
   "nbconvert_exporter": "python",
   "pygments_lexer": "ipython3",
   "version": "3.8.8"
  }
 },
 "nbformat": 4,
 "nbformat_minor": 2
}
