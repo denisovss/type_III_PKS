{
 "cells": [
  {
   "cell_type": "code",
   "execution_count": 10,
   "metadata": {},
   "outputs": [
    {
     "name": "stdout",
     "output_type": "stream",
     "text": [
      "Requirement already satisfied: peptides in /opt/anaconda3/lib/python3.8/site-packages (0.3.2)\n",
      "\u001b[33mWARNING: You are using pip version 22.0.4; however, version 24.1.2 is available.\n",
      "You should consider upgrading via the '/opt/anaconda3/bin/python3 -m pip install --upgrade pip' command.\u001b[0m\u001b[33m\n",
      "\u001b[0mNote: you may need to restart the kernel to use updated packages.\n"
     ]
    }
   ],
   "source": [
    "pip install peptides"
   ]
  },
  {
   "cell_type": "code",
   "execution_count": 1,
   "metadata": {},
   "outputs": [],
   "source": [
    "#import libraries\n",
    "import h5py\n",
    "import numpy\n",
    "from rdkit import Chem\n",
    "from rdkit.Chem import AllChem\n",
    "from rdkit import DataStructs\n",
    "from rdkit.Chem import MACCSkeys\n",
    "import pandas as pd\n",
    "import peptides\n",
    "import matplotlib.pyplot as plt\n",
    "import time\n",
    "import re"
   ]
  },
  {
   "cell_type": "code",
   "execution_count": 51,
   "metadata": {},
   "outputs": [],
   "source": [
    "#matching embedding with Gene name in pooled embeddings in the case of all unique sequences\n",
    "\n",
    "def substrate_match(long_df, descriptors, smiles):\n",
    "    subs_descpitors = numpy.empty(descriptors.shape[1])\n",
    "    for item in long_df['Substrate']:\n",
    "        #print(item)\n",
    "        index = smiles.index[smiles[\"Substrate\"]==item][0]\n",
    "        subs_descpitors = numpy.vstack((subs_descpitors, descriptors[index]))\n",
    "    subs_descpitors = subs_descpitors[1:]\n",
    "    return subs_descpitors\n",
    "#function for substrate embedding generation\n",
    "def substrate_descriptor(smiles, dimension):\n",
    "    substrate_desc = {}\n",
    "    for item in dimension:\n",
    "        substrate_desc[item] = numpy.empty(dimension[item])\n",
    "    for item in smiles['SMILES']:\n",
    "        #print(item.index())\n",
    "        mol = Chem.MolFromSmiles(item)\n",
    "        models = {'MACCS': Chem.MACCSkeys.GenMACCSKeys(mol)}\n",
    "        for model in models:\n",
    "            fp = models[model]\n",
    "            array = numpy.zeros((0, ), dtype=numpy.int8)\n",
    "            DataStructs.ConvertToNumpyArray(fp, array)\n",
    "            substrate_desc[model] = numpy.vstack((substrate_desc[model], array))\n",
    "    for item in substrate_desc:\n",
    "        substrate_desc[item]= substrate_desc[item][1:]\n",
    "    return substrate_desc\n",
    "def model_score(score):\n",
    "    mean_scores = dict()\n",
    "    for item in score:\n",
    "        print(item)\n",
    "        metr = list()\n",
    "        sd = list()\n",
    "        for value in score[item]:\n",
    "            metr.extend(mean(value, axis =0 ))\n",
    "            sd.extend(numpy.std(value, axis = 0))\n",
    "        mean_scores[item] = [metr, sd]\n",
    "    return mean_scores\n",
    "\n",
    "def seq_desc_match(descriptor_dict, seq_index, long_df):\n",
    "    start_time = time.perf_counter()\n",
    "    x = list(descriptor_dict.keys())[0]    \n",
    "    seq_embeddings = numpy.empty(len(descriptor_dict[x]))\n",
    "    for item in long_df[\"Gene\"]:\n",
    "        array = descriptor_dict[seq_index[seq_index.index(item)]]\n",
    "        #removinf nans\n",
    "        #array = numpy.nan_to_num(array, nan=0.0)\n",
    "        seq_embeddings = numpy.vstack((seq_embeddings,array))\n",
    "    seq_embeddings = seq_embeddings[1:]\n",
    "    end_time = time.perf_counter()\n",
    "    elapsed_time = end_time - start_time\n",
    "    print(\"Elapsed time: \", elapsed_time)\n",
    "    return seq_embeddings \n",
    "\n",
    "#function to convert url\n",
    "def convert_google_sheet_url(url):\n",
    "    # Regular expression to match and capture the necessary part of the URL\n",
    "    pattern = r'https://docs\\.google\\.com/spreadsheets/d/([a-zA-Z0-9-_]+)(/edit#gid=(\\d+)|/edit.*)?'\n",
    "\n",
    "    # Replace function to construct the new URL for CSV export\n",
    "    # If gid is present in the URL, it includes it in the export URL, otherwise, it's omitted\n",
    "    replacement = lambda m: f'https://docs.google.com/spreadsheets/d/{m.group(1)}/export?' + (f'gid={m.group(3)}&' if m.group(3) else '') + 'format=csv'\n",
    "\n",
    "    # Replace using regex\n",
    "    new_url = re.sub(pattern, replacement, url)\n",
    "\n",
    "    return new_url\n",
    "\n",
    "#make msa df \n",
    "def make_msa_df(align, input_dict, type_str, drop):\n",
    "    msa_df = pd.DataFrame()\n",
    "    name_align = type_str + \"_alignment\"\n",
    "    name_res = type_str + \"_residue\"\n",
    "    for item in input_dict[name_align]:\n",
    "        x = list()\n",
    "        for letter in str(align[:, item]):\n",
    "            x.append(letter)\n",
    "        msa_df[input_dict[name_res][input_dict[name_align].index(item)]] = x\n",
    "    #dropping identical columns \n",
    "    if drop == True:\n",
    "        column_to_drop = list()\n",
    "        for item in msa_df:\n",
    "            unique = msa_df[item].unique()\n",
    "            if len(unique) == 1:\n",
    "                column_to_drop.append(item)\n",
    "        msa_df = msa_df.drop(column_to_drop, axis = 1)\n",
    "    return msa_df\n",
    "#calculating descriptors based on msa\n",
    "def make_descriptor_df(input_df):\n",
    "    descriptors_df = pd.DataFrame()\n",
    "    for item in input_df:\n",
    "        desc_list = list()\n",
    "        for residue in input_df[item]:\n",
    "            if residue == \"-\":\n",
    "                desc_list.append([0] * 88)\n",
    "            else:\n",
    "                peptide = peptides.Peptide(residue)\n",
    "                desc_list.append(list(peptide.descriptors().values()))\n",
    "        desc_df = pd.DataFrame(desc_list)\n",
    "        descriptors_df = pd.concat([descriptors_df, desc_df],axis=1)\n",
    "    return descriptors_df\n",
    "    \n",
    "#function to plot all 5 metrics from model_score function\n",
    "def plot_model_score(score_model):\n",
    "    metrics_list = [\"Accuracy\", \"ROC AUC\", \"Precision\", \"Recall\", \"F1\"]\n",
    "    x = numpy.arange(len(metrics_list))  # the label locations\n",
    "    width = 0.5  # the width of the bars\n",
    "    fig, ax = subplots(figsize = (8,8))\n",
    "    multiplier = 0\n",
    "    ax.bar(x, score_model[0], width, yerr = score_model[1])\n",
    "    ax.set_xticks(x)\n",
    "    ax.set_xticklabels(metrics_list, rotation=-90)\n",
    "    ax.legend()\n",
    "    ax.set_ylim(0.5, 1)"
   ]
  },
  {
   "cell_type": "code",
   "execution_count": 3,
   "metadata": {},
   "outputs": [],
   "source": [
    "#reading selected residues\n",
    "url = 'https://docs.google.com/spreadsheets/d/1xjDpF3Br4uu9Wl6GOFFLyqcCiWFvIrH6gLGXaPVd6b4/edit?usp=sharing'\n",
    "new_url = convert_google_sheet_url(url)\n",
    "oras_df = pd.read_csv(new_url)"
   ]
  },
  {
   "cell_type": "code",
   "execution_count": 5,
   "metadata": {
    "scrolled": false
   },
   "outputs": [],
   "source": [
    "#loading sequences for fungal enzymes and making msa with oras\n",
    "#alignment is done using ClustalW website\n",
    "from Bio import AlignIO\n",
    "align = AlignIO.read(\"../input_data/T3PKS_alignment_clustal\", \"clustal\")\n",
    "#indexing names\n",
    "seq_indexes = list()\n",
    "for record in align:\n",
    "    seq_indexes.append(record.id)\n",
    "#indexing ORAS sequences in the alignment\n",
    "index_list = dict()\n",
    "for item in [\"ORAS\", \"MsCHS\"]:\n",
    "    x = str(align[seq_indexes.index(item)].seq)\n",
    "    index_seq = list()\n",
    "    i = 1\n",
    "    for letter in x:\n",
    "        if letter != \"-\":\n",
    "            index_seq.append(i)\n",
    "            i += 1\n",
    "        else:\n",
    "            index_seq.append(0)\n",
    "    index_list[item] = index_seq"
   ]
  },
  {
   "cell_type": "code",
   "execution_count": 6,
   "metadata": {},
   "outputs": [],
   "source": [
    "#indexing and creating dictionary for ORAS position in the seq, in the alignment and residue \n",
    "#converting google sheet data to a dictionary with position numbers and one-letter codes\n",
    "from Bio.SeqUtils import seq1\n",
    "import math\n",
    "oras_residues = dict()\n",
    "for item in oras_df:\n",
    "    enzyme = item.split(\"_\")[0]\n",
    "    res_list, num_list, align_pos = list(), list(), list()\n",
    "    for residue in oras_df[item]:\n",
    "        if isinstance(residue, float) == False:\n",
    "            res = seq1(residue.split(\" \")[1])\n",
    "            pos = residue.split(\" \")[0]\n",
    "            num_list.append(int(pos))\n",
    "            res_list.append(res+pos) \n",
    "            align_pos.append(index_list[enzyme].index(int(pos)))\n",
    "    name1 = item + \"_position\"\n",
    "    oras_residues[name1] = num_list\n",
    "    name2 = item + \"_residue\"\n",
    "    oras_residues[name2] = res_list\n",
    "    name3 = item + \"_alignment\"\n",
    "    oras_residues[name3] = align_pos"
   ]
  },
  {
   "cell_type": "code",
   "execution_count": 7,
   "metadata": {
    "scrolled": true
   },
   "outputs": [
    {
     "name": "stdout",
     "output_type": "stream",
     "text": [
      "[45, 49, 50, 53, 83, 85, 86, 87, 88, 93, 95, 98, 154, 155, 191, 192, 193, 194, 195, 196, 197, 225, 226, 227, 228, 229, 230, 231, 234, 250, 251, 254, 255, 256, 257, 310, 311, 312, 313, 319, 320, 321, 322, 375, 377, 408, 409, 410, 411, 451, 452, 453, 454]\n"
     ]
    }
   ],
   "source": [
    "#combining MsCHS_6A_Cys_and_6A_naringenin and ORAS_5A_eicosanoic_acid (cavity and tunnel) residues\n",
    "tunnel_cavity_alignment = oras_residues[\"ORAS_5A_eicosanoic_acid_alignment\"] + oras_residues['MsCHS_6A_Cys_and_6A_naringenin_alignment']\n",
    "tunnel_cavity_alignment.sort()\n",
    "tunnel_cavity_alignment = list(dict.fromkeys(tunnel_cavity_alignment))\n",
    "print(tunnel_cavity_alignment)\n",
    "#making list based on ORAS sequence\n",
    "x = str(align[seq_indexes.index(\"ORAS\")].seq)\n",
    "index_seq = list()\n",
    "#pdb 3EUT has nummeration starting with 10, so numbering is offset\n",
    "i = 0\n",
    "j = 0\n",
    "tunnel_cavity_residue, tunnel_cavity_position = list(), list()\n",
    "for letter in x:\n",
    "    if letter != \"-\":\n",
    "        i += 1\n",
    "    if j in tunnel_cavity_alignment:\n",
    "        res_name = letter + str(i)\n",
    "        tunnel_cavity_residue.append(res_name)\n",
    "        tunnel_cavity_position.append(i)\n",
    "    j += 1\n",
    "oras_residues[\"tunnel_cavity_alignment\"] = tunnel_cavity_alignment\n",
    "oras_residues[\"tunnel_cavity_residue\"] = tunnel_cavity_residue\n",
    "oras_residues[\"tunnel_cavity_position\"] = tunnel_cavity_position"
   ]
  },
  {
   "cell_type": "code",
   "execution_count": 9,
   "metadata": {
    "scrolled": true
   },
   "outputs": [],
   "source": [
    "msa, msa_to_plot = dict(), dict()\n",
    "names = list(oras_df.columns) + [\"tunnel_cavity\"]\n",
    "for item in names:\n",
    "    msa[item] = make_msa_df(align, oras_residues, item, True)\n",
    "    msa_to_plot[item] = make_msa_df(align, oras_residues, item, False)\n",
    "msa_descriptors = dict()\n",
    "for item in msa:\n",
    "    msa_descriptors[item] = make_descriptor_df(msa[item])\n"
   ]
  },
  {
   "cell_type": "code",
   "execution_count": 10,
   "metadata": {},
   "outputs": [],
   "source": [
    "#making dictionary using seq_index for gene name and row from descriptor_df for descriptor\n",
    "descriptors = dict()\n",
    "for sets in msa_descriptors:\n",
    "    descriptors[sets] = dict()\n",
    "    for item in seq_indexes:\n",
    "        descriptors[sets][item] = msa_descriptors[sets].loc[seq_indexes.index(item)].values"
   ]
  },
  {
   "cell_type": "code",
   "execution_count": 21,
   "metadata": {},
   "outputs": [
    {
     "name": "stdout",
     "output_type": "stream",
     "text": [
      "Elapsed time:  0.0970971249998911\n"
     ]
    }
   ],
   "source": [
    "#reading long_df for prediction and making enzyme/substrate descriptors as previously\n",
    "long_df = pd.read_csv(\"../input_data/T3PKS_cellfree_df.csv\")\n",
    "long_df.head()\n",
    "dimension = {'MACCS': 167}\n",
    "smiles = pd.read_csv(\"../input_data/smiles_combined.csv\")\n",
    "fingerprints = substrate_descriptor(smiles,  dimension)\n",
    "\n",
    "\n",
    "substrate_fp = dict()\n",
    "\n",
    "for key in fingerprints:\n",
    "    substrate_fp[key] = substrate_match(long_df, fingerprints[key], smiles)\n",
    "embeddings = dict()\n",
    "embeddings['tunnel_cavity'] = seq_desc_match(descriptors['tunnel_cavity'],seq_indexes, long_df)\n",
    "#concatenating input descriptors\n",
    "X = dict()\n",
    "X['MACCS/tunnel_cavity'] =numpy.hstack((embeddings['tunnel_cavity'],  substrate_fp['MACCS']))"
   ]
  },
  {
   "cell_type": "code",
   "execution_count": 13,
   "metadata": {},
   "outputs": [],
   "source": [
    "from sklearn.tree import DecisionTreeClassifier\n",
    "from sklearn.model_selection import StratifiedShuffleSplit\n",
    "from sklearn.metrics import roc_curve, roc_auc_score, precision_score, recall_score, f1_score\n",
    "from numpy import  mean, array\n",
    "\n",
    "#from mpl_toolkits import mplot3d\n",
    "from matplotlib.pyplot import subplots, axes, scatter, xticks\n",
    "RANDOM_STATE = 12345\n",
    "\n",
    "classifiers = {'Decision Tree': DecisionTreeClassifier(random_state=RANDOM_STATE)}"
   ]
  },
  {
   "cell_type": "code",
   "execution_count": 24,
   "metadata": {},
   "outputs": [
    {
     "name": "stdout",
     "output_type": "stream",
     "text": [
      "MACCS/tunnel_cavity\n"
     ]
    }
   ],
   "source": [
    "#testing substrate, enzyme, and combined descriptors as an input\n",
    "RANDOM_STATE  = 12345\n",
    "\n",
    "y_train = long_df['value']\n",
    "importances_all = dict()\n",
    "score_all = dict()\n",
    "for item in X:\n",
    "    sss = StratifiedShuffleSplit(random_state=RANDOM_STATE, n_splits=100, test_size=0.3)\n",
    "    score, roc_auc, precision, recall, f1 = list(), list(),list(),list(), list()\n",
    "    importances = list()\n",
    "    \n",
    "    for train_index, test_index in sss.split(X[item], y_train):\n",
    "        X_s, y_s = X[item][train_index, :], y_train[train_index]\n",
    "        new_obs_s, y_test_s = X[item][test_index, :], y_train[test_index]\n",
    "        score_clf, roc_auc_clf, precision_clf, recall_clf, f1_clf = list(), list(),list(),list(), list()\n",
    "        importances_clf = list()\n",
    "        for name, clf in classifiers.items():\n",
    "            clf.fit(X_s, y_s)\n",
    "            y_pred_prob = clf.predict_proba(new_obs_s)[:, 1]\n",
    "            y_pred = clf.predict(new_obs_s)\n",
    "            score_clf.append(clf.score(new_obs_s, y_test_s))\n",
    "            roc_auc_clf.append(roc_auc_score(y_test_s, y_pred_prob))\n",
    "            precision_clf.append(precision_score(y_test_s, y_pred))\n",
    "            recall_clf.append(recall_score(y_test_s, y_pred))\n",
    "            f1_clf.append(f1_score(y_test_s, y_pred))\n",
    "            importances_clf.append(clf.fit(X_s, y_s).feature_importances_)\n",
    "        score.append(score_clf), \n",
    "        roc_auc.append(roc_auc_clf)\n",
    "        recall.append(recall_clf)\n",
    "        precision.append(precision_clf)\n",
    "        f1.append(f1_clf)\n",
    "        importances.append(importances_clf)\n",
    "\n",
    "    score_all[item] = (score,roc_auc, precision, recall, f1)\n",
    "    importances_all[item] = importances\n",
    "mean_model_scores = model_score(score_all)"
   ]
  },
  {
   "cell_type": "code",
   "execution_count": 52,
   "metadata": {},
   "outputs": [
    {
     "name": "stderr",
     "output_type": "stream",
     "text": [
      "No artists with labels found to put in legend.  Note that artists whose label start with an underscore are ignored when legend() is called with no argument.\n"
     ]
    },
    {
     "data": {
      "image/png": "[encoded data removed]",
      "text/plain": [
       "<Figure size 576x576 with 1 Axes>"
      ]
     },
     "metadata": {
      "needs_background": "light"
     },
     "output_type": "display_data"
    }
   ],
   "source": [
    "plot_model_score(mean_model_scores['MACCS/tunnel_cavity'])"
   ]
  },
  {
   "cell_type": "code",
   "execution_count": 35,
   "metadata": {},
   "outputs": [],
   "source": [
    "#writing resuts\n",
    "metrics_list = [\"Accuracy\", \"ROC AUC\", \"Precision\", \"Recall\", \"F1\"]\n",
    "scores = dict()\n",
    "for i in range(0,5):\n",
    "    flat_list = list()\n",
    "    for item in score_all['MACCS/tunnel_cavity'][i]:\n",
    "        flat_list.extend(item)\n",
    "    scores[metrics_list[i]] = flat_list\n",
    "scores = pd.DataFrame(scores)\n",
    "scores.to_csv(\"../output_data/decision_tree_score.csv\", sep = \";\")"
   ]
  },
  {
   "cell_type": "code",
   "execution_count": 59,
   "metadata": {},
   "outputs": [],
   "source": [
    "#combining importances by residues \n",
    "classifiers.keys()\n",
    "importance_by_residues = dict()\n",
    "for item in importances_all:\n",
    "    name = item.split(\"/\")[1]\n",
    "    imp_by_split = list()\n",
    "    for item2 in importances_all[item]:\n",
    "        imp_by_model = list()\n",
    "        for item3 in item2:\n",
    "            combined_values = list()\n",
    "            count = 0\n",
    "            for i in range(0, msa[name].shape[1]):\n",
    "                combined_values.append(sum(item3[count:count+87]))\n",
    "                count += 88\n",
    "            imp_by_model.append(combined_values)        \n",
    "        imp_by_split.append(imp_by_model)\n",
    "    importance_by_residues[item] = imp_by_split\n",
    "#rearranging array for boxplot\n",
    "boxplot_array = list()\n",
    "for item in importance_by_residues[\"MACCS/tunnel_cavity\"]:\n",
    "    a = item[0]\n",
    "    boxplot_array.append(a)\n",
    "boxplot_array = numpy.array(boxplot_array)"
   ]
  },
  {
   "cell_type": "code",
   "execution_count": 58,
   "metadata": {},
   "outputs": [
    {
     "data": {
      "text/plain": [
       "<function matplotlib.pyplot.show(close=None, block=None)>"
      ]
     },
     "execution_count": 58,
     "metadata": {},
     "output_type": "execute_result"
    },
    {
     "data": {
      "image/png": "[encoded data removed]",
      "text/plain": [
       "<Figure size 1440x720 with 1 Axes>"
      ]
     },
     "metadata": {
      "needs_background": "light"
     },
     "output_type": "display_data"
    }
   ],
   "source": [
    "fig, ax = subplots(ncols=1, figsize=(20, 10))\n",
    "label_ticks =msa['tunnel_cavity'].columns\n",
    "ax.boxplot(boxplot_array, showfliers=True)\n",
    "ax.set_xticks(ticks=range(1,msa['tunnel_cavity'].shape[1]+1), labels=label_ticks, rotation='vertical')\n",
    "plt.show"
   ]
  },
  {
   "cell_type": "code",
   "execution_count": 61,
   "metadata": {},
   "outputs": [],
   "source": [
    "#export data for importances\n",
    "box_df = pd.DataFrame(boxplot_array, columns= msa['tunnel_cavity'].columns)\n",
    "box_df.to_csv(\"../output_data/importances.csv\")"
   ]
  },
  {
   "cell_type": "code",
   "execution_count": 62,
   "metadata": {},
   "outputs": [
    {
     "data": {
      "text/html": [
       "<div>\n",
       "<style scoped>\n",
       "    .dataframe tbody tr th:only-of-type {\n",
       "        vertical-align: middle;\n",
       "    }\n",
       "\n",
       "    .dataframe tbody tr th {\n",
       "        vertical-align: top;\n",
       "    }\n",
       "\n",
       "    .dataframe thead th {\n",
       "        text-align: right;\n",
       "    }\n",
       "</style>\n",
       "<table border=\"1\" class=\"dataframe\">\n",
       "  <thead>\n",
       "    <tr style=\"text-align: right;\">\n",
       "      <th></th>\n",
       "      <th>Residue</th>\n",
       "      <th>Importance</th>\n",
       "      <th>MSA</th>\n",
       "    </tr>\n",
       "  </thead>\n",
       "  <tbody>\n",
       "    <tr>\n",
       "      <th>0</th>\n",
       "      <td>L26</td>\n",
       "      <td>0.084631</td>\n",
       "      <td>45</td>\n",
       "    </tr>\n",
       "    <tr>\n",
       "      <th>1</th>\n",
       "      <td>A30</td>\n",
       "      <td>0.152253</td>\n",
       "      <td>49</td>\n",
       "    </tr>\n",
       "    <tr>\n",
       "      <th>2</th>\n",
       "      <td>I31</td>\n",
       "      <td>0.005519</td>\n",
       "      <td>50</td>\n",
       "    </tr>\n",
       "    <tr>\n",
       "      <th>3</th>\n",
       "      <td>L34</td>\n",
       "      <td>0.011438</td>\n",
       "      <td>53</td>\n",
       "    </tr>\n",
       "    <tr>\n",
       "      <th>4</th>\n",
       "      <td>S62</td>\n",
       "      <td>0.000000</td>\n",
       "      <td>85</td>\n",
       "    </tr>\n",
       "  </tbody>\n",
       "</table>\n",
       "</div>"
      ],
      "text/plain": [
       "  Residue  Importance  MSA\n",
       "0     L26    0.084631   45\n",
       "1     A30    0.152253   49\n",
       "2     I31    0.005519   50\n",
       "3     L34    0.011438   53\n",
       "4     S62    0.000000   85"
      ]
     },
     "execution_count": 62,
     "metadata": {},
     "output_type": "execute_result"
    }
   ],
   "source": [
    "#use Decision tree model importances and import them onto pdb file\n",
    "#Median from violin/box plot \n",
    "MACCS_ligand_cys = pd.DataFrame()\n",
    "MACCS_ligand_cys['Residue'] = msa['tunnel_cavity'].columns\n",
    "MACCS_ligand_cys['Importance'] = list(box_df.median(axis = 0))\n",
    "\n",
    "msa_position = list()\n",
    "for item in MACCS_ligand_cys['Residue']:\n",
    "    msa_position.append(oras_residues['tunnel_cavity_alignment'][oras_residues['tunnel_cavity_residue'].index(item)])\n",
    "\n",
    "MACCS_ligand_cys['MSA'] = msa_position\n",
    "MACCS_ligand_cys.head()"
   ]
  },
  {
   "cell_type": "code",
   "execution_count": 64,
   "metadata": {},
   "outputs": [],
   "source": [
    "#writing msa file for plotting\n",
    "msa_df = pd.DataFrame(msa['tunnel_cavity'])\n",
    "msa_df.index = seq_indexes\n",
    "msa_df = msa_df.T\n",
    "msa_df.insert(0, \"Importance\", list(MACCS_ligand_cys['Importance']))\n",
    "msa_df.to_csv(\"../output_data/msa_ligand_cys.csv\", sep = \",\")"
   ]
  },
  {
   "cell_type": "code",
   "execution_count": 66,
   "metadata": {},
   "outputs": [],
   "source": [
    "#indexing ORAS sequences in the alignment and making sequence number for other enzymes\n",
    "\n",
    "for item in seq_indexes:\n",
    "    x = str(align[seq_indexes.index(item)].seq)\n",
    "    index_list = list()\n",
    "    i = 1\n",
    "    count = 0\n",
    "    seq = list()\n",
    "    for letter in x:\n",
    "        if count in MACCS_ligand_cys['MSA'].values:\n",
    "            if letter != \"-\":\n",
    "                seq.append(str(i))\n",
    "            else:\n",
    "                seq.append('-')\n",
    "        if letter != \"-\":\n",
    "            i += 1\n",
    "        count += 1\n",
    "    MACCS_ligand_cys[item] = seq \n",
    "MACCS_ligand_cys.to_csv(\"../output_data/important_residues.csv\", sep = \";\")"
   ]
  },
  {
   "cell_type": "code",
   "execution_count": 548,
   "metadata": {
    "scrolled": true
   },
   "outputs": [],
   "source": [
    "#take the importance score and write in AF2 predictions\n",
    "#ORAS structure is 3EUTA\n",
    "from math import log\n",
    "from Bio import PDB\n",
    "from Bio.SeqUtils import seq1\n",
    "from Bio.PDB.PDBIO import PDBIO\n",
    "#writing epitopes from selected epitope df using AF2 models\n",
    "parser = PDB.PDBParser(PERMISSIVE=1)\n",
    "io = PDBIO()\n",
    "\n",
    "for item in MACCS_ligand_cys.iloc[:,3:]:\n",
    "    structure_id = item\n",
    "    filename = \"../input_data/AF_pred/\" + item + \".pdb\"\n",
    "    structure = parser.get_structure(structure_id, filename)\n",
    "    residues = structure.get_residues()\n",
    "    bfact_list = list()\n",
    "    for residue in residues:\n",
    "        res_num = str(residue.get_id()[1])\n",
    "        #print(res_num)\n",
    "        res_name = residue.get_resname()\n",
    "        #res_id = seq1(res_name) + str(res_num)\n",
    "        if res_num in MACCS_ligand_cys[item].unique():\n",
    "            if MACCS_ligand_cys['Importance'].loc[MACCS_ligand_cys[item] == res_num].values[0] != 0:\n",
    "                for atom in residue:\n",
    "                    #scale b factor by factor 1000 and log for better visibility\n",
    "                    atom.set_bfactor(log(1000*MACCS_ligand_cys['Importance'].loc[MACCS_ligand_cys[item] == res_num].values[0],10))\n",
    "            else:\n",
    "                for atom in residue:\n",
    "                    atom.set_bfactor(0)\n",
    "        else:\n",
    "            for atom in residue:\n",
    "                atom.set_bfactor(0)\n",
    "\n",
    "    io.set_structure(structure)\n",
    "    file_out = \"../output_data/AF_pred/residue_importance/\" + item + \"_importance.pdb\"\n",
    "    io.save(file_out)"
   ]
  }
 ],
 "metadata": {
  "kernelspec": {
   "display_name": "Python 3",
   "language": "python",
   "name": "python3"
  },
  "language_info": {
   "codemirror_mode": {
    "name": "ipython",
    "version": 3
   },
   "file_extension": ".py",
   "mimetype": "text/x-python",
   "name": "python",
   "nbconvert_exporter": "python",
   "pygments_lexer": "ipython3",
   "version": "3.8.8"
  }
 },
 "nbformat": 4,
 "nbformat_minor": 2
}
